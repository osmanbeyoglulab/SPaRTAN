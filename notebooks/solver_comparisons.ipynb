{
 "cells": [
  {
   "cell_type": "code",
   "execution_count": 1,
   "outputs": [],
   "source": [
    "import scanpy as sc\n",
    "import seaborn as sns\n",
    "import pandas as pd\n",
    "from matplotlib import pyplot as plt\n",
    "import numpy as np\n",
    "from sklearn.preprocessing import normalize\n",
    "\n",
    "import pySPaRTAN"
   ],
   "metadata": {
    "collapsed": false,
    "pycharm": {
     "name": "#%%\n"
    }
   }
  },
  {
   "cell_type": "code",
   "execution_count": 3,
   "outputs": [
    {
     "name": "stdout",
     "output_type": "stream",
     "text": [
      "Compiling cythLeastR/cythLeastR.pyx because it changed.\r\n",
      "Compiling cythKronPlus/cythKronPlus.pyx because it changed.\r\n",
      "[1/2] Cythonizing cythKronPlus/cythKronPlus.pyx\r\n",
      "/Users/sagana/opt/anaconda3/lib/python3.8/site-packages/Cython/Compiler/Main.py:369: FutureWarning: Cython directive 'language_level' not set, using 2 for now (Py2). This will change in a later release! File: /Users/sagana/Library/CloudStorage/OneDrive-UniversityofPittsburgh/SPaRTAN1/pySPaRTAN/cythKronPlus/cythKronPlus.pyx\r\n",
      "  tree = Parsing.p_module(s, pxd, full_module_name)\r\n",
      "[2/2] Cythonizing cythLeastR/cythLeastR.pyx\r\n",
      "/Users/sagana/opt/anaconda3/lib/python3.8/site-packages/Cython/Compiler/Main.py:369: FutureWarning: Cython directive 'language_level' not set, using 2 for now (Py2). This will change in a later release! File: /Users/sagana/Library/CloudStorage/OneDrive-UniversityofPittsburgh/SPaRTAN1/pySPaRTAN/cythLeastR/cythLeastR.pyx\r\n",
      "  tree = Parsing.p_module(s, pxd, full_module_name)\r\n",
      "running build_ext\r\n",
      "Compiling cythLeastR/cythLeastR.pyx because it changed.\r\n",
      "Compiling cythKronPlus/cythKronPlus.pyx because it changed.\r\n",
      "[1/2] Cythonizing cythKronPlus/cythKronPlus.pyx\r\n",
      "/Users/sagana/opt/anaconda3/lib/python3.8/site-packages/Cython/Compiler/Main.py:369: FutureWarning: Cython directive 'language_level' not set, using 2 for now (Py2). This will change in a later release! File: /Users/sagana/Library/CloudStorage/OneDrive-UniversityofPittsburgh/SPaRTAN1/pySPaRTAN/cythKronPlus/cythKronPlus.pyx\r\n",
      "  tree = Parsing.p_module(s, pxd, full_module_name)\r\n",
      "[2/2] Cythonizing cythLeastR/cythLeastR.pyx\r\n",
      "/Users/sagana/opt/anaconda3/lib/python3.8/site-packages/Cython/Compiler/Main.py:369: FutureWarning: Cython directive 'language_level' not set, using 2 for now (Py2). This will change in a later release! File: /Users/sagana/Library/CloudStorage/OneDrive-UniversityofPittsburgh/SPaRTAN1/pySPaRTAN/cythLeastR/cythLeastR.pyx\r\n",
      "  tree = Parsing.p_module(s, pxd, full_module_name)\r\n",
      "running install\r\n",
      "running bdist_egg\r\n",
      "running egg_info\r\n",
      "creating pySPaRTAN.egg-info\r\n",
      "writing pySPaRTAN.egg-info/PKG-INFO\r\n",
      "writing dependency_links to pySPaRTAN.egg-info/dependency_links.txt\r\n",
      "writing top-level names to pySPaRTAN.egg-info/top_level.txt\r\n",
      "writing manifest file 'pySPaRTAN.egg-info/SOURCES.txt'\r\n",
      "reading manifest file 'pySPaRTAN.egg-info/SOURCES.txt'\r\n",
      "writing manifest file 'pySPaRTAN.egg-info/SOURCES.txt'\r\n",
      "installing library code to build/bdist.macosx-10.9-x86_64/egg\r\n",
      "running install_lib\r\n",
      "warning: install_lib: 'build/lib' does not exist -- no Python modules to install\r\n",
      "\r\n",
      "creating build/bdist.macosx-10.9-x86_64\r\n",
      "creating build/bdist.macosx-10.9-x86_64/egg\r\n",
      "creating build/bdist.macosx-10.9-x86_64/egg/EGG-INFO\r\n",
      "copying pySPaRTAN.egg-info/PKG-INFO -> build/bdist.macosx-10.9-x86_64/egg/EGG-INFO\r\n",
      "copying pySPaRTAN.egg-info/SOURCES.txt -> build/bdist.macosx-10.9-x86_64/egg/EGG-INFO\r\n",
      "copying pySPaRTAN.egg-info/dependency_links.txt -> build/bdist.macosx-10.9-x86_64/egg/EGG-INFO\r\n",
      "copying pySPaRTAN.egg-info/not-zip-safe -> build/bdist.macosx-10.9-x86_64/egg/EGG-INFO\r\n",
      "copying pySPaRTAN.egg-info/top_level.txt -> build/bdist.macosx-10.9-x86_64/egg/EGG-INFO\r\n",
      "creating dist\r\n",
      "creating 'dist/pySPaRTAN-0.0.0-py3.8.egg' and adding 'build/bdist.macosx-10.9-x86_64/egg' to it\r\n",
      "removing 'build/bdist.macosx-10.9-x86_64/egg' (and everything under it)\r\n",
      "Processing pySPaRTAN-0.0.0-py3.8.egg\r\n",
      "creating /Users/sagana/.local/lib/python3.8/site-packages/pySPaRTAN-0.0.0-py3.8.egg\r\n",
      "Extracting pySPaRTAN-0.0.0-py3.8.egg to /Users/sagana/.local/lib/python3.8/site-packages\r\n",
      "Adding pySPaRTAN 0.0.0 to easy-install.pth file\r\n",
      "\r\n",
      "Installed /Users/sagana/.local/lib/python3.8/site-packages/pySPaRTAN-0.0.0-py3.8.egg\r\n",
      "Processing dependencies for pySPaRTAN==0.0.0\r\n",
      "Finished processing dependencies for pySPaRTAN==0.0.0\r\n"
     ]
    }
   ],
   "source": [
    "!python setup.py build_ext\n",
    "!python setup.py install --user"
   ],
   "metadata": {
    "collapsed": false,
    "pycharm": {
     "name": "#%%\n"
    }
   }
  },
  {
   "cell_type": "code",
   "execution_count": 2,
   "outputs": [
    {
     "data": {
      "text/plain": "2"
     },
     "execution_count": 2,
     "metadata": {},
     "output_type": "execute_result"
    }
   ],
   "source": [
    "2"
   ],
   "metadata": {
    "collapsed": false,
    "pycharm": {
     "name": "#%%\n"
    }
   }
  },
  {
   "cell_type": "code",
   "execution_count": 3,
   "outputs": [],
   "source": [
    "adata=pySPaRTAN.pbmc(\"CD8\")\n",
    "adata_training=adata[(adata.obs[\"training\"] == True)]\n",
    "adata_testing =adata[(adata.obs[\"training\"] == False)]"
   ],
   "metadata": {
    "collapsed": false,
    "pycharm": {
     "name": "#%%\n"
    }
   }
  },
  {
   "cell_type": "code",
   "execution_count": 4,
   "outputs": [
    {
     "data": {
      "text/plain": "0.6505109841657477"
     },
     "execution_count": 4,
     "metadata": {},
     "output_type": "execute_result"
    }
   ],
   "source": [
    "model_svd= pySPaRTAN.SPaRTAN(lamda=[1e-10, 0.01],\n",
    "                             alpha=[0,1],\n",
    "                             solver=\"SVD\"\n",
    "                             ).fit(adata_training,\n",
    "                                   Y=\"normalized\")\n",
    "model_svd.score(adata_testing)"
   ],
   "metadata": {
    "collapsed": false,
    "pycharm": {
     "name": "#%%\n"
    }
   }
  },
  {
   "cell_type": "code",
   "execution_count": 29,
   "outputs": [
    {
     "data": {
      "text/plain": "0.7354144219717306"
     },
     "execution_count": 29,
     "metadata": {},
     "output_type": "execute_result"
    }
   ],
   "source": [
    "model_kron= pySPaRTAN.SPaRTAN(lamda=0.002,\n",
    "                              alpha=0.001,\n",
    "                              solver=\"Kron\"\n",
    "                              ).fit(adata_training,\n",
    "                                    Y=\"normalized\")\n",
    "\n",
    "model_kron.score(adata_testing)"
   ],
   "metadata": {
    "collapsed": false,
    "pycharm": {
     "name": "#%%\n"
    }
   }
  },
  {
   "cell_type": "code",
   "execution_count": 6,
   "outputs": [
    {
     "data": {
      "text/plain": "0.5"
     },
     "execution_count": 6,
     "metadata": {},
     "output_type": "execute_result"
    }
   ],
   "source": [
    "model_kron.alpha"
   ],
   "metadata": {
    "collapsed": false,
    "pycharm": {
     "name": "#%%\n"
    }
   }
  },
  {
   "cell_type": "code",
   "execution_count": 36,
   "outputs": [
    {
     "name": "stderr",
     "output_type": "stream",
     "text": [
      "100%|██████████| 1/1 [00:00<00:00, 25.98it/s]\n"
     ]
    }
   ],
   "source": [
    "tf_svd, tf_p_val_svd = model_svd.get_projD(\n",
    "    adata.obsm[\"protein\"],\n",
    "    n_trials=1,\n",
    "    verbose=True\n",
    ")"
   ],
   "metadata": {
    "collapsed": false,
    "pycharm": {
     "name": "#%%\n"
    }
   }
  },
  {
   "cell_type": "code",
   "execution_count": 38,
   "outputs": [
    {
     "data": {
      "text/plain": "                  CREB1  JUN  TEAD1  FOS  RXRA  PBX3  MYC  RARA  PPARG  PAX6  \\\nAACACACCAATCCTAG    1.0  1.0    1.0  0.5   0.5   1.0  0.5   1.0    0.5   1.0   \nAACAGGGAGCGAAACC    1.0  1.0    1.0  0.5   0.5   1.0  0.5   1.0    0.5   1.0   \nAACCAACTCGAGTACT    1.0  1.0    1.0  0.5   0.5   1.0  0.5   1.0    0.5   1.0   \nAACCATGCAATGCAAA    0.5  1.0    1.0  0.5   0.5   1.0  0.5   1.0    0.5   1.0   \nAACGGGAGTGAGATAT    0.5  1.0    1.0  0.5   0.5   1.0  0.5   1.0    0.5   1.0   \n...                 ...  ...    ...  ...   ...   ...  ...   ...    ...   ...   \nTTGTTCAGTAATGCTC    0.5  1.0    1.0  0.5   0.5   1.0  0.5   1.0    0.5   1.0   \nTTGTTGTGTACCTTCC    1.0  1.0    1.0  0.5   0.5   1.0  0.5   1.0    0.5   1.0   \nTTGTTTGTCGACCCAG    1.0  1.0    1.0  0.5   0.5   1.0  0.5   1.0    0.5   1.0   \nTTTAGTCTCGGTGCAC    1.0  1.0    1.0  0.5   0.5   1.0  0.5   1.0    0.5   1.0   \nTTTATGCCATCTATCT    1.0  1.0    1.0  0.5   0.5   1.0  0.5   1.0    0.5   1.0   \n\n                  ...  SMARCC1  KMT2B  FOXO4  SSRP1  SMAD5  ZNF274  UBTF  \\\nAACACACCAATCCTAG  ...      1.0    1.0    0.5    0.5    1.0     1.0   1.0   \nAACAGGGAGCGAAACC  ...      1.0    1.0    0.5    0.5    1.0     1.0   1.0   \nAACCAACTCGAGTACT  ...      1.0    1.0    0.5    0.5    1.0     1.0   1.0   \nAACCATGCAATGCAAA  ...      1.0    1.0    0.5    0.5    1.0     1.0   1.0   \nAACGGGAGTGAGATAT  ...      1.0    1.0    0.5    0.5    1.0     1.0   1.0   \n...               ...      ...    ...    ...    ...    ...     ...   ...   \nTTGTTCAGTAATGCTC  ...      1.0    1.0    0.5    0.5    1.0     1.0   1.0   \nTTGTTGTGTACCTTCC  ...      1.0    1.0    0.5    0.5    1.0     1.0   1.0   \nTTGTTTGTCGACCCAG  ...      1.0    1.0    0.5    0.5    1.0     1.0   1.0   \nTTTAGTCTCGGTGCAC  ...      1.0    1.0    0.5    0.5    1.0     1.0   1.0   \nTTTATGCCATCTATCT  ...      1.0    1.0    0.5    0.5    1.0     1.0   1.0   \n\n                  ZNF592  TGIF2  GATAD1  \nAACACACCAATCCTAG     1.0    1.0     0.5  \nAACAGGGAGCGAAACC     1.0    1.0     0.5  \nAACCAACTCGAGTACT     1.0    1.0     0.5  \nAACCATGCAATGCAAA     1.0    1.0     0.5  \nAACGGGAGTGAGATAT     1.0    1.0     0.5  \n...                  ...    ...     ...  \nTTGTTCAGTAATGCTC     1.0    1.0     0.5  \nTTGTTGTGTACCTTCC     1.0    1.0     0.5  \nTTGTTTGTCGACCCAG     1.0    1.0     0.5  \nTTTAGTCTCGGTGCAC     1.0    1.0     0.5  \nTTTATGCCATCTATCT     1.0    1.0     0.5  \n\n[319 rows x 255 columns]",
      "text/html": "<div>\n<style scoped>\n    .dataframe tbody tr th:only-of-type {\n        vertical-align: middle;\n    }\n\n    .dataframe tbody tr th {\n        vertical-align: top;\n    }\n\n    .dataframe thead th {\n        text-align: right;\n    }\n</style>\n<table border=\"1\" class=\"dataframe\">\n  <thead>\n    <tr style=\"text-align: right;\">\n      <th></th>\n      <th>CREB1</th>\n      <th>JUN</th>\n      <th>TEAD1</th>\n      <th>FOS</th>\n      <th>RXRA</th>\n      <th>PBX3</th>\n      <th>MYC</th>\n      <th>RARA</th>\n      <th>PPARG</th>\n      <th>PAX6</th>\n      <th>...</th>\n      <th>SMARCC1</th>\n      <th>KMT2B</th>\n      <th>FOXO4</th>\n      <th>SSRP1</th>\n      <th>SMAD5</th>\n      <th>ZNF274</th>\n      <th>UBTF</th>\n      <th>ZNF592</th>\n      <th>TGIF2</th>\n      <th>GATAD1</th>\n    </tr>\n  </thead>\n  <tbody>\n    <tr>\n      <th>AACACACCAATCCTAG</th>\n      <td>1.0</td>\n      <td>1.0</td>\n      <td>1.0</td>\n      <td>0.5</td>\n      <td>0.5</td>\n      <td>1.0</td>\n      <td>0.5</td>\n      <td>1.0</td>\n      <td>0.5</td>\n      <td>1.0</td>\n      <td>...</td>\n      <td>1.0</td>\n      <td>1.0</td>\n      <td>0.5</td>\n      <td>0.5</td>\n      <td>1.0</td>\n      <td>1.0</td>\n      <td>1.0</td>\n      <td>1.0</td>\n      <td>1.0</td>\n      <td>0.5</td>\n    </tr>\n    <tr>\n      <th>AACAGGGAGCGAAACC</th>\n      <td>1.0</td>\n      <td>1.0</td>\n      <td>1.0</td>\n      <td>0.5</td>\n      <td>0.5</td>\n      <td>1.0</td>\n      <td>0.5</td>\n      <td>1.0</td>\n      <td>0.5</td>\n      <td>1.0</td>\n      <td>...</td>\n      <td>1.0</td>\n      <td>1.0</td>\n      <td>0.5</td>\n      <td>0.5</td>\n      <td>1.0</td>\n      <td>1.0</td>\n      <td>1.0</td>\n      <td>1.0</td>\n      <td>1.0</td>\n      <td>0.5</td>\n    </tr>\n    <tr>\n      <th>AACCAACTCGAGTACT</th>\n      <td>1.0</td>\n      <td>1.0</td>\n      <td>1.0</td>\n      <td>0.5</td>\n      <td>0.5</td>\n      <td>1.0</td>\n      <td>0.5</td>\n      <td>1.0</td>\n      <td>0.5</td>\n      <td>1.0</td>\n      <td>...</td>\n      <td>1.0</td>\n      <td>1.0</td>\n      <td>0.5</td>\n      <td>0.5</td>\n      <td>1.0</td>\n      <td>1.0</td>\n      <td>1.0</td>\n      <td>1.0</td>\n      <td>1.0</td>\n      <td>0.5</td>\n    </tr>\n    <tr>\n      <th>AACCATGCAATGCAAA</th>\n      <td>0.5</td>\n      <td>1.0</td>\n      <td>1.0</td>\n      <td>0.5</td>\n      <td>0.5</td>\n      <td>1.0</td>\n      <td>0.5</td>\n      <td>1.0</td>\n      <td>0.5</td>\n      <td>1.0</td>\n      <td>...</td>\n      <td>1.0</td>\n      <td>1.0</td>\n      <td>0.5</td>\n      <td>0.5</td>\n      <td>1.0</td>\n      <td>1.0</td>\n      <td>1.0</td>\n      <td>1.0</td>\n      <td>1.0</td>\n      <td>0.5</td>\n    </tr>\n    <tr>\n      <th>AACGGGAGTGAGATAT</th>\n      <td>0.5</td>\n      <td>1.0</td>\n      <td>1.0</td>\n      <td>0.5</td>\n      <td>0.5</td>\n      <td>1.0</td>\n      <td>0.5</td>\n      <td>1.0</td>\n      <td>0.5</td>\n      <td>1.0</td>\n      <td>...</td>\n      <td>1.0</td>\n      <td>1.0</td>\n      <td>0.5</td>\n      <td>0.5</td>\n      <td>1.0</td>\n      <td>1.0</td>\n      <td>1.0</td>\n      <td>1.0</td>\n      <td>1.0</td>\n      <td>0.5</td>\n    </tr>\n    <tr>\n      <th>...</th>\n      <td>...</td>\n      <td>...</td>\n      <td>...</td>\n      <td>...</td>\n      <td>...</td>\n      <td>...</td>\n      <td>...</td>\n      <td>...</td>\n      <td>...</td>\n      <td>...</td>\n      <td>...</td>\n      <td>...</td>\n      <td>...</td>\n      <td>...</td>\n      <td>...</td>\n      <td>...</td>\n      <td>...</td>\n      <td>...</td>\n      <td>...</td>\n      <td>...</td>\n      <td>...</td>\n    </tr>\n    <tr>\n      <th>TTGTTCAGTAATGCTC</th>\n      <td>0.5</td>\n      <td>1.0</td>\n      <td>1.0</td>\n      <td>0.5</td>\n      <td>0.5</td>\n      <td>1.0</td>\n      <td>0.5</td>\n      <td>1.0</td>\n      <td>0.5</td>\n      <td>1.0</td>\n      <td>...</td>\n      <td>1.0</td>\n      <td>1.0</td>\n      <td>0.5</td>\n      <td>0.5</td>\n      <td>1.0</td>\n      <td>1.0</td>\n      <td>1.0</td>\n      <td>1.0</td>\n      <td>1.0</td>\n      <td>0.5</td>\n    </tr>\n    <tr>\n      <th>TTGTTGTGTACCTTCC</th>\n      <td>1.0</td>\n      <td>1.0</td>\n      <td>1.0</td>\n      <td>0.5</td>\n      <td>0.5</td>\n      <td>1.0</td>\n      <td>0.5</td>\n      <td>1.0</td>\n      <td>0.5</td>\n      <td>1.0</td>\n      <td>...</td>\n      <td>1.0</td>\n      <td>1.0</td>\n      <td>0.5</td>\n      <td>0.5</td>\n      <td>1.0</td>\n      <td>1.0</td>\n      <td>1.0</td>\n      <td>1.0</td>\n      <td>1.0</td>\n      <td>0.5</td>\n    </tr>\n    <tr>\n      <th>TTGTTTGTCGACCCAG</th>\n      <td>1.0</td>\n      <td>1.0</td>\n      <td>1.0</td>\n      <td>0.5</td>\n      <td>0.5</td>\n      <td>1.0</td>\n      <td>0.5</td>\n      <td>1.0</td>\n      <td>0.5</td>\n      <td>1.0</td>\n      <td>...</td>\n      <td>1.0</td>\n      <td>1.0</td>\n      <td>0.5</td>\n      <td>0.5</td>\n      <td>1.0</td>\n      <td>1.0</td>\n      <td>1.0</td>\n      <td>1.0</td>\n      <td>1.0</td>\n      <td>0.5</td>\n    </tr>\n    <tr>\n      <th>TTTAGTCTCGGTGCAC</th>\n      <td>1.0</td>\n      <td>1.0</td>\n      <td>1.0</td>\n      <td>0.5</td>\n      <td>0.5</td>\n      <td>1.0</td>\n      <td>0.5</td>\n      <td>1.0</td>\n      <td>0.5</td>\n      <td>1.0</td>\n      <td>...</td>\n      <td>1.0</td>\n      <td>1.0</td>\n      <td>0.5</td>\n      <td>0.5</td>\n      <td>1.0</td>\n      <td>1.0</td>\n      <td>1.0</td>\n      <td>1.0</td>\n      <td>1.0</td>\n      <td>0.5</td>\n    </tr>\n    <tr>\n      <th>TTTATGCCATCTATCT</th>\n      <td>1.0</td>\n      <td>1.0</td>\n      <td>1.0</td>\n      <td>0.5</td>\n      <td>0.5</td>\n      <td>1.0</td>\n      <td>0.5</td>\n      <td>1.0</td>\n      <td>0.5</td>\n      <td>1.0</td>\n      <td>...</td>\n      <td>1.0</td>\n      <td>1.0</td>\n      <td>0.5</td>\n      <td>0.5</td>\n      <td>1.0</td>\n      <td>1.0</td>\n      <td>1.0</td>\n      <td>1.0</td>\n      <td>1.0</td>\n      <td>0.5</td>\n    </tr>\n  </tbody>\n</table>\n<p>319 rows × 255 columns</p>\n</div>"
     },
     "execution_count": 38,
     "metadata": {},
     "output_type": "execute_result"
    }
   ],
   "source": [
    "tf_p_val_svd"
   ],
   "metadata": {
    "collapsed": false,
    "pycharm": {
     "name": "#%%\n"
    }
   }
  },
  {
   "cell_type": "code",
   "execution_count": 30,
   "outputs": [
    {
     "name": "stderr",
     "output_type": "stream",
     "text": [
      "100%|██████████| 100/100 [01:48<00:00,  1.08s/it]\n"
     ]
    }
   ],
   "source": [
    "tf_kron, tf_p_val_kron = model_kron.get_projD(\n",
    "    adata.obsm[\"protein\"],\n",
    "    n_trials=100,\n",
    "    verbose=True\n",
    ")"
   ],
   "metadata": {
    "collapsed": false,
    "pycharm": {
     "name": "#%%\n"
    }
   }
  },
  {
   "cell_type": "code",
   "execution_count": 34,
   "outputs": [
    {
     "data": {
      "text/plain": "                       CD3       CD4      CD8a     CD11b      CD14      CD15  \\\nAACACACCAATCCTAG  0.334800  0.010434  0.498415  0.022671  0.014578  0.111833   \nAACAGGGAGCGAAACC  0.355786  0.007989  0.701235  0.024885  0.046132  0.118696   \nAACCAACTCGAGTACT  0.673128  0.006763  0.114339  0.117708  0.081827  0.109838   \nAACCATGCAATGCAAA  0.287253  0.011766  0.554503  0.020846  0.027943  0.054411   \nAACGGGAGTGAGATAT  0.289031  0.014512  0.581485  0.140292  0.064983  0.070835   \n...                    ...       ...       ...       ...       ...       ...   \nTTGTTCAGTAATGCTC  0.314284  0.006091  0.567727  0.022752  0.035068  0.115596   \nTTGTTGTGTACCTTCC  0.348682  0.010229  0.547276  0.119552  0.029393  0.118632   \nTTGTTTGTCGACCCAG  0.569694  0.004675  0.091277  0.057696  0.020981  0.119174   \nTTTAGTCTCGGTGCAC  0.365309  0.006260  0.655726  0.063550  0.025797  0.078891   \nTTTATGCCATCTATCT  0.309844  0.002022  0.475714  0.011705  0.031025  0.110405   \n\n                      CD16      CD19      CD20      CD25  ...      CD86  \\\nAACACACCAATCCTAG  0.041223  0.031794  0.045260  0.000000  ...  0.028134   \nAACAGGGAGCGAAACC  0.028148  0.040374  0.106169  0.177405  ...  0.027869   \nAACCAACTCGAGTACT  0.096260  0.106316  0.040054  0.226240  ...  0.035994   \nAACCATGCAATGCAAA  0.000000  0.000000  0.106274  0.042125  ...  0.021427   \nAACGGGAGTGAGATAT  0.147393  0.042189  0.200506  0.095337  ...  0.037617   \n...                    ...       ...       ...       ...  ...       ...   \nTTGTTCAGTAATGCTC  0.086061  0.039319  0.233578  0.154716  ...  0.049577   \nTTGTTGTGTACCTTCC  0.075023  0.133866  0.100465  0.039823  ...  0.029385   \nTTGTTTGTCGACCCAG  0.092153  0.052290  0.115894  0.086988  ...  0.000000   \nTTTAGTCTCGGTGCAC  0.082807  0.098296  0.065146  0.092805  ...  0.050813   \nTTTATGCCATCTATCT  0.079187  0.130807  0.167250  0.000000  ...  0.031016   \n\n                     CD127     CD137     CD197     CD274     CD278     CD335  \\\nAACACACCAATCCTAG  0.015070  0.157606  0.000000  0.131456  0.054173  0.070805   \nAACAGGGAGCGAAACC  0.431214  0.107616  0.050606  0.065988  0.047345  0.134792   \nAACCAACTCGAGTACT  0.300262  0.067529  0.094818  0.069391  0.253484  0.049377   \nAACCATGCAATGCAAA  0.163662  0.040200  0.067747  0.041309  0.240821  0.093416   \nAACGGGAGTGAGATAT  0.254532  0.112455  0.106912  0.000000  0.081842  0.116722   \n...                    ...       ...       ...       ...       ...       ...   \nTTGTTCAGTAATGCTC  0.255918  0.085453  0.068322  0.107058  0.160846  0.081564   \nTTGTTGTGTACCTTCC  0.020922  0.038003  0.041797  0.178564  0.112475  0.142127   \nTTGTTTGTCGACCCAG  0.194589  0.083388  0.065543  0.047967  0.175222  0.034132   \nTTTAGTCTCGGTGCAC  0.069163  0.179152  0.070688  0.000000  0.319149  0.030670   \nTTTATGCCATCTATCT  0.236759  0.071655  0.044116  0.073440  0.247919  0.029329   \n\n                      PD-1    HLA-DR     TIGIT  \nAACACACCAATCCTAG  0.325912  0.085379  0.510509  \nAACAGGGAGCGAAACC  0.097446  0.031533  0.100528  \nAACCAACTCGAGTACT  0.000000  0.096978  0.061936  \nAACCATGCAATGCAAA  0.354490  0.046879  0.281239  \nAACGGGAGTGAGATAT  0.079489  0.084201  0.335698  \n...                    ...       ...       ...  \nTTGTTCAGTAATGCTC  0.266197  0.058013  0.128400  \nTTGTTGTGTACCTTCC  0.154444  0.036501  0.381333  \nTTGTTTGTCGACCCAG  0.324235  0.091292  0.042813  \nTTTAGTCTCGGTGCAC  0.263428  0.047227  0.286718  \nTTTATGCCATCTATCT  0.363875  0.010609  0.292711  \n\n[319 rows x 29 columns]",
      "text/html": "<div>\n<style scoped>\n    .dataframe tbody tr th:only-of-type {\n        vertical-align: middle;\n    }\n\n    .dataframe tbody tr th {\n        vertical-align: top;\n    }\n\n    .dataframe thead th {\n        text-align: right;\n    }\n</style>\n<table border=\"1\" class=\"dataframe\">\n  <thead>\n    <tr style=\"text-align: right;\">\n      <th></th>\n      <th>CD3</th>\n      <th>CD4</th>\n      <th>CD8a</th>\n      <th>CD11b</th>\n      <th>CD14</th>\n      <th>CD15</th>\n      <th>CD16</th>\n      <th>CD19</th>\n      <th>CD20</th>\n      <th>CD25</th>\n      <th>...</th>\n      <th>CD86</th>\n      <th>CD127</th>\n      <th>CD137</th>\n      <th>CD197</th>\n      <th>CD274</th>\n      <th>CD278</th>\n      <th>CD335</th>\n      <th>PD-1</th>\n      <th>HLA-DR</th>\n      <th>TIGIT</th>\n    </tr>\n  </thead>\n  <tbody>\n    <tr>\n      <th>AACACACCAATCCTAG</th>\n      <td>0.334800</td>\n      <td>0.010434</td>\n      <td>0.498415</td>\n      <td>0.022671</td>\n      <td>0.014578</td>\n      <td>0.111833</td>\n      <td>0.041223</td>\n      <td>0.031794</td>\n      <td>0.045260</td>\n      <td>0.000000</td>\n      <td>...</td>\n      <td>0.028134</td>\n      <td>0.015070</td>\n      <td>0.157606</td>\n      <td>0.000000</td>\n      <td>0.131456</td>\n      <td>0.054173</td>\n      <td>0.070805</td>\n      <td>0.325912</td>\n      <td>0.085379</td>\n      <td>0.510509</td>\n    </tr>\n    <tr>\n      <th>AACAGGGAGCGAAACC</th>\n      <td>0.355786</td>\n      <td>0.007989</td>\n      <td>0.701235</td>\n      <td>0.024885</td>\n      <td>0.046132</td>\n      <td>0.118696</td>\n      <td>0.028148</td>\n      <td>0.040374</td>\n      <td>0.106169</td>\n      <td>0.177405</td>\n      <td>...</td>\n      <td>0.027869</td>\n      <td>0.431214</td>\n      <td>0.107616</td>\n      <td>0.050606</td>\n      <td>0.065988</td>\n      <td>0.047345</td>\n      <td>0.134792</td>\n      <td>0.097446</td>\n      <td>0.031533</td>\n      <td>0.100528</td>\n    </tr>\n    <tr>\n      <th>AACCAACTCGAGTACT</th>\n      <td>0.673128</td>\n      <td>0.006763</td>\n      <td>0.114339</td>\n      <td>0.117708</td>\n      <td>0.081827</td>\n      <td>0.109838</td>\n      <td>0.096260</td>\n      <td>0.106316</td>\n      <td>0.040054</td>\n      <td>0.226240</td>\n      <td>...</td>\n      <td>0.035994</td>\n      <td>0.300262</td>\n      <td>0.067529</td>\n      <td>0.094818</td>\n      <td>0.069391</td>\n      <td>0.253484</td>\n      <td>0.049377</td>\n      <td>0.000000</td>\n      <td>0.096978</td>\n      <td>0.061936</td>\n    </tr>\n    <tr>\n      <th>AACCATGCAATGCAAA</th>\n      <td>0.287253</td>\n      <td>0.011766</td>\n      <td>0.554503</td>\n      <td>0.020846</td>\n      <td>0.027943</td>\n      <td>0.054411</td>\n      <td>0.000000</td>\n      <td>0.000000</td>\n      <td>0.106274</td>\n      <td>0.042125</td>\n      <td>...</td>\n      <td>0.021427</td>\n      <td>0.163662</td>\n      <td>0.040200</td>\n      <td>0.067747</td>\n      <td>0.041309</td>\n      <td>0.240821</td>\n      <td>0.093416</td>\n      <td>0.354490</td>\n      <td>0.046879</td>\n      <td>0.281239</td>\n    </tr>\n    <tr>\n      <th>AACGGGAGTGAGATAT</th>\n      <td>0.289031</td>\n      <td>0.014512</td>\n      <td>0.581485</td>\n      <td>0.140292</td>\n      <td>0.064983</td>\n      <td>0.070835</td>\n      <td>0.147393</td>\n      <td>0.042189</td>\n      <td>0.200506</td>\n      <td>0.095337</td>\n      <td>...</td>\n      <td>0.037617</td>\n      <td>0.254532</td>\n      <td>0.112455</td>\n      <td>0.106912</td>\n      <td>0.000000</td>\n      <td>0.081842</td>\n      <td>0.116722</td>\n      <td>0.079489</td>\n      <td>0.084201</td>\n      <td>0.335698</td>\n    </tr>\n    <tr>\n      <th>...</th>\n      <td>...</td>\n      <td>...</td>\n      <td>...</td>\n      <td>...</td>\n      <td>...</td>\n      <td>...</td>\n      <td>...</td>\n      <td>...</td>\n      <td>...</td>\n      <td>...</td>\n      <td>...</td>\n      <td>...</td>\n      <td>...</td>\n      <td>...</td>\n      <td>...</td>\n      <td>...</td>\n      <td>...</td>\n      <td>...</td>\n      <td>...</td>\n      <td>...</td>\n      <td>...</td>\n    </tr>\n    <tr>\n      <th>TTGTTCAGTAATGCTC</th>\n      <td>0.314284</td>\n      <td>0.006091</td>\n      <td>0.567727</td>\n      <td>0.022752</td>\n      <td>0.035068</td>\n      <td>0.115596</td>\n      <td>0.086061</td>\n      <td>0.039319</td>\n      <td>0.233578</td>\n      <td>0.154716</td>\n      <td>...</td>\n      <td>0.049577</td>\n      <td>0.255918</td>\n      <td>0.085453</td>\n      <td>0.068322</td>\n      <td>0.107058</td>\n      <td>0.160846</td>\n      <td>0.081564</td>\n      <td>0.266197</td>\n      <td>0.058013</td>\n      <td>0.128400</td>\n    </tr>\n    <tr>\n      <th>TTGTTGTGTACCTTCC</th>\n      <td>0.348682</td>\n      <td>0.010229</td>\n      <td>0.547276</td>\n      <td>0.119552</td>\n      <td>0.029393</td>\n      <td>0.118632</td>\n      <td>0.075023</td>\n      <td>0.133866</td>\n      <td>0.100465</td>\n      <td>0.039823</td>\n      <td>...</td>\n      <td>0.029385</td>\n      <td>0.020922</td>\n      <td>0.038003</td>\n      <td>0.041797</td>\n      <td>0.178564</td>\n      <td>0.112475</td>\n      <td>0.142127</td>\n      <td>0.154444</td>\n      <td>0.036501</td>\n      <td>0.381333</td>\n    </tr>\n    <tr>\n      <th>TTGTTTGTCGACCCAG</th>\n      <td>0.569694</td>\n      <td>0.004675</td>\n      <td>0.091277</td>\n      <td>0.057696</td>\n      <td>0.020981</td>\n      <td>0.119174</td>\n      <td>0.092153</td>\n      <td>0.052290</td>\n      <td>0.115894</td>\n      <td>0.086988</td>\n      <td>...</td>\n      <td>0.000000</td>\n      <td>0.194589</td>\n      <td>0.083388</td>\n      <td>0.065543</td>\n      <td>0.047967</td>\n      <td>0.175222</td>\n      <td>0.034132</td>\n      <td>0.324235</td>\n      <td>0.091292</td>\n      <td>0.042813</td>\n    </tr>\n    <tr>\n      <th>TTTAGTCTCGGTGCAC</th>\n      <td>0.365309</td>\n      <td>0.006260</td>\n      <td>0.655726</td>\n      <td>0.063550</td>\n      <td>0.025797</td>\n      <td>0.078891</td>\n      <td>0.082807</td>\n      <td>0.098296</td>\n      <td>0.065146</td>\n      <td>0.092805</td>\n      <td>...</td>\n      <td>0.050813</td>\n      <td>0.069163</td>\n      <td>0.179152</td>\n      <td>0.070688</td>\n      <td>0.000000</td>\n      <td>0.319149</td>\n      <td>0.030670</td>\n      <td>0.263428</td>\n      <td>0.047227</td>\n      <td>0.286718</td>\n    </tr>\n    <tr>\n      <th>TTTATGCCATCTATCT</th>\n      <td>0.309844</td>\n      <td>0.002022</td>\n      <td>0.475714</td>\n      <td>0.011705</td>\n      <td>0.031025</td>\n      <td>0.110405</td>\n      <td>0.079187</td>\n      <td>0.130807</td>\n      <td>0.167250</td>\n      <td>0.000000</td>\n      <td>...</td>\n      <td>0.031016</td>\n      <td>0.236759</td>\n      <td>0.071655</td>\n      <td>0.044116</td>\n      <td>0.073440</td>\n      <td>0.247919</td>\n      <td>0.029329</td>\n      <td>0.363875</td>\n      <td>0.010609</td>\n      <td>0.292711</td>\n    </tr>\n  </tbody>\n</table>\n<p>319 rows × 29 columns</p>\n</div>"
     },
     "execution_count": 34,
     "metadata": {},
     "output_type": "execute_result"
    }
   ],
   "source": [
    "adata.obsm[\"protein\"]"
   ],
   "metadata": {
    "collapsed": false,
    "pycharm": {
     "name": "#%%\n"
    }
   }
  },
  {
   "cell_type": "code",
   "execution_count": 11,
   "outputs": [
    {
     "data": {
      "text/plain": "<AxesSubplot:>"
     },
     "execution_count": 11,
     "metadata": {},
     "output_type": "execute_result"
    },
    {
     "data": {
      "text/plain": "<Figure size 432x288 with 1 Axes>",
      "image/png": "[encoded data removed]"
     },
     "metadata": {
      "needs_background": "light"
     },
     "output_type": "display_data"
    }
   ],
   "source": [
    "tf_p_val_svd.iloc[1].hist()"
   ],
   "metadata": {
    "collapsed": false,
    "pycharm": {
     "name": "#%%\n"
    }
   }
  },
  {
   "cell_type": "code",
   "execution_count": 12,
   "outputs": [
    {
     "data": {
      "text/plain": "<AxesSubplot:>"
     },
     "execution_count": 12,
     "metadata": {},
     "output_type": "execute_result"
    },
    {
     "data": {
      "text/plain": "<Figure size 432x288 with 1 Axes>",
      "image/png": "[encoded data removed]"
     },
     "metadata": {
      "needs_background": "light"
     },
     "output_type": "display_data"
    }
   ],
   "source": [
    "tf_p_val_kron.iloc[1].hist()"
   ],
   "metadata": {
    "collapsed": false,
    "pycharm": {
     "name": "#%%\n"
    }
   }
  },
  {
   "cell_type": "code",
   "execution_count": 13,
   "outputs": [
    {
     "data": {
      "text/plain": "MAF      1.000000\nMYC      1.000000\nIRF3     1.000000\nRFX5     1.000000\nSSRP1    1.000000\nESR2     1.000000\nREL      1.000000\nZBED1    0.880878\nFOXL2    0.463950\nLYL1     0.300940\ndtype: float64"
     },
     "execution_count": 13,
     "metadata": {},
     "output_type": "execute_result"
    }
   ],
   "source": [
    "prop_sig=(tf_p_val_svd<0.15).mean()\n",
    "prop_sig.sort_values(ascending=False).head(10)"
   ],
   "metadata": {
    "collapsed": false,
    "pycharm": {
     "name": "#%%\n"
    }
   }
  },
  {
   "cell_type": "code",
   "execution_count": 14,
   "outputs": [
    {
     "data": {
      "text/plain": "MAF       1.000000\nMYC       1.000000\nIRF3      1.000000\nRFX5      1.000000\nSSRP1     1.000000\nESR2      1.000000\nREL       1.000000\nZBED1     0.880878\nFOXL2     0.463950\nLYL1      0.300940\nELK1      0.200627\nELK4      0.188088\nPKNOX1    0.000000\nMEIS1     0.000000\nSNAPC4    0.000000\nIKZF1     0.000000\nZBTB33    0.000000\nNFE2      0.000000\nGRHL2     0.000000\nBCL11A    0.000000\nRCOR1     0.000000\nZEB1      0.000000\nCREB1     0.000000\nMNT       0.000000\nZBTB11    0.000000\nSTAT5B    0.000000\nSPIB      0.000000\nTAF1      0.000000\nZHX2      0.000000\nIRF9      0.000000\ndtype: float64"
     },
     "execution_count": 14,
     "metadata": {},
     "output_type": "execute_result"
    }
   ],
   "source": [
    "(tf_p_val_svd<0.15).mean().sort_values(ascending=False).head(30)"
   ],
   "metadata": {
    "collapsed": false,
    "pycharm": {
     "name": "#%%\n"
    }
   }
  },
  {
   "cell_type": "code",
   "execution_count": 28,
   "outputs": [
    {
     "data": {
      "text/plain": "MYC      0.000000\nEGR1     0.000000\nELK1     1.000000\nSPI1     0.000000\nSP1      0.000000\nE2F7     0.946708\nRFX5     1.000000\nPPARA    0.087774\nVDR      0.000000\nMAFG     1.000000\nFOXP1    0.000000\nTCF25    1.000000\nFOSL2    1.000000\nUSF2     1.000000\nLEF1     0.385580\nGATA3    0.874608\nMEIS2    0.000000\nSMAD2    0.000000\nCREB1    1.000000\nFOS      0.056426\nTEAD1    0.000000\nHIF1A    1.000000\nPPARG    1.000000\ndtype: float64"
     },
     "execution_count": 28,
     "metadata": {},
     "output_type": "execute_result"
    }
   ],
   "source": [
    "(tf_p_val_kron<0.15).mean()[[\"MYC\",\"EGR1\", \"ELK1\",\"SPI1\", \"SP1\", \"E2F7\", \"RFX5\", \"PPARA\", \"VDR\", \"MAFG\", \"FOXP1\", \"TCF25\", \"FOSL2\", \"USF2\", \"LEF1\", \"GATA3\", \"MEIS2\", \"SMAD2\", \"CREB1\", \"FOS\", \"TEAD1\", \"HIF1A\", \"PPARG\"]]"
   ],
   "metadata": {
    "collapsed": false,
    "pycharm": {
     "name": "#%%\n"
    }
   }
  },
  {
   "cell_type": "code",
   "execution_count": null,
   "outputs": [],
   "source": [
    "type(adata.varm[\"tf_gene\"])"
   ],
   "metadata": {
    "collapsed": false,
    "pycharm": {
     "name": "#%%\n"
    }
   }
  },
  {
   "cell_type": "code",
   "execution_count": null,
   "metadata": {},
   "outputs": [],
   "source": [
    "adata.obsm[\"tf_activity\"]=tf.T\n",
    "adata.obsm[\"tf_p_val\"]=tf_p_val.T"
   ]
  },
  {
   "cell_type": "code",
   "execution_count": null,
   "metadata": {
    "pycharm": {
     "name": "#%%\n"
    },
    "scrolled": false
   },
   "outputs": [],
   "source": [
    "protein_tf=adata.get_tf_protein_cor()\n",
    "protein_tf.head()"
   ]
  }
 ],
 "metadata": {
  "kernelspec": {
   "display_name": "Python 3",
   "language": "python",
   "name": "python3"
  },
  "language_info": {
   "codemirror_mode": {
    "name": "ipython",
    "version": 3
   },
   "file_extension": ".py",
   "mimetype": "text/x-python",
   "name": "python",
   "nbconvert_exporter": "python",
   "pygments_lexer": "ipython3",
   "version": "3.8.5"
  }
 },
 "nbformat": 4,
 "nbformat_minor": 1
}