{
 "cells": [
  {
   "cell_type": "markdown",
   "metadata": {},
   "source": [
    "The pySPaRTAN package and the pipeline outlined in this chapter are designed around the Scanpy/scVerse ecosystem, which stores data as `AnnData` objects.  An AnnData object contains a data matrix with columns (observations) as cells and rows (variables) as genes or ADTs.  The object has dataframes `.obs` and `.var` containing information on each cell and each gene, respectively.  Additionally, the fields `.obsm` and `.varm` can be used to store additional dataframes with features describing the cells and genes.  For example, we will store the surface protein count matrix in `.obsm`."
   ]
  },
  {
   "cell_type": "markdown",
   "metadata": {},
   "source": [
    "## 1 Importing and pre-processing CITE-seq data\n",
    "\n",
    "Import all the packages used in the pipeline."
   ]
  },
  {
   "cell_type": "code",
   "execution_count": 1,
   "metadata": {
    "pycharm": {
     "name": "#%%\n"
    }
   },
   "outputs": [],
   "source": [
    "import scanpy as sc\n",
    "import seaborn as sns\n",
    "import pandas as pd\n",
    "from matplotlib import pyplot as plt\n",
    "import numpy as np\n",
    "from sklearn.preprocessing import normalize\n",
    "\n",
    "import pySPaRTAN"
   ]
  },
  {
   "cell_type": "markdown",
   "metadata": {},
   "source": [
    "Load CITE-seq data into memory using one of Scanpy’s i/o functions. In this case, the counts for mRNA and protein ADTs are stored in the same .h5 file, and so we use the `sc.read_10x_h5` function. Refer to the Scanpy documentation for other formats, such as h5ad, loom, csv, or excel files, for example. After the data is loaded into an AnnData object, the `var_names_make_unique` function appends a number to the end of gene names that are not unique."
   ]
  },
  {
   "cell_type": "code",
   "execution_count": 2,
   "metadata": {
    "pycharm": {
     "name": "#%%\n"
    }
   },
   "outputs": [
    {
     "name": "stderr",
     "output_type": "stream",
     "text": [
      "Variable names are not unique. To make them unique, call `.var_names_make_unique`.\n"
     ]
    }
   ],
   "source": [
    "#!wget https://cf.10xgenomics.com/samples/cell-exp/3.1.0/5k_pbmc_protein_v3_nextgem/5k_pbmc_protein_v3_nextgem_filtered_feature_bc_matrix.h5 -O ../data/cite-seq/5k_pbmc_protein_v3_nextgem_filtered_feature_bc_matrix.h5\n",
    "path=\"../data/cite-seq/5k_pbmc_protein_v3_nextgem_filtered_feature_bc_matrix.h5\"\n",
    "adata=sc.read_10x_h5(path, gex_only=False)\n",
    "\n",
    "adata.var_names_make_unique()"
   ]
  },
  {
   "cell_type": "markdown",
   "metadata": {
    "pycharm": {
     "name": "#%% md\n"
    }
   },
   "source": [
    "Separate the gene expression counts from the ADT counts. Variables are annotated as either “Antibody Capture” or “Gene Expression” in the `adata.var[\"feature_types\"]` field. We move the proteomics data (“Antibody Capture”) to a separate data frame."
   ]
  },
  {
   "cell_type": "code",
   "execution_count": 3,
   "metadata": {
    "pycharm": {
     "name": "#%%\n"
    }
   },
   "outputs": [],
   "source": [
    "protein=adata[:,adata.var[\"feature_types\"]==\"Antibody Capture\"].copy()\n",
    "protein=protein[:,[x for x in protein.var_names if \"control\" not in x]]\n",
    "adata.obsm[\"protein_raw_counts\"]=protein.to_df()\n",
    "adata.obsm[\"protein_raw_counts\"].columns=[elem.replace(\"_TotalSeqB\", '') for elem in adata.obsm[\"protein_raw_counts\"].columns]\n",
    "\n",
    "adata = adata[:, adata.var[\"feature_types\"] == \"Gene Expression\"]\n",
    "adata.layers[\"raw_counts\"] = adata.X.copy()"
   ]
  },
  {
   "cell_type": "markdown",
   "metadata": {
    "pycharm": {
     "name": "#%% md\n"
    }
   },
   "source": [
    "Some cells have a sequencing depth that is too low to use for our analysis. We recommend filtering out cells where less than 5000 unique genes are sequenced, and cells where more than 30% of genes mitochondrial genes.  The `function sc.pp.filter_genes` is used to remove genes that are not present in any cells, `sc.pp.calculate_qc_metrics` computes the metrics used to filter cells and stores the results in `adata.obs` and `adata.var`."
   ]
  },
  {
   "cell_type": "code",
   "execution_count": 4,
   "metadata": {
    "pycharm": {
     "name": "#%%\n"
    }
   },
   "outputs": [],
   "source": [
    "sc.pp.filter_genes(adata, min_cells=0.03*adata.n_obs)\n",
    "\n",
    "sc.pp.filter_cells(adata, min_genes=1000)\n",
    "adata.var['mt'] = adata.var_names.str.startswith('MT-')\n",
    "\n",
    "sc.pp.calculate_qc_metrics(adata, \n",
    "                           qc_vars=['mt'], \n",
    "                           percent_top=None,\n",
    "                           log1p=False,\n",
    "                           inplace=True)\n",
    "\n",
    "adata=adata[adata.obs.query(\n",
    "    \"n_genes_by_counts < 5000 and pct_counts_mt<30\").index]"
   ]
  },
  {
   "cell_type": "markdown",
   "metadata": {},
   "source": [
    "Use the `sc.pp.normalize_total` function to scale the raw count data so that the sum is $10^4$ for each cell. Then, use `sc.pp.log1p` to log-transform the data so that it is more suitable for a linear model. The normalized, log transformed counts are to be stored in `adata.layers[\"log1p\"]`."
   ]
  },
  {
   "cell_type": "code",
   "execution_count": 5,
   "metadata": {
    "pycharm": {
     "name": "#%%\n"
    }
   },
   "outputs": [
    {
     "name": "stderr",
     "output_type": "stream",
     "text": [
      "/Users/sagana/opt/anaconda3/lib/python3.8/site-packages/scanpy/preprocessing/_normalization.py:155: UserWarning: Revieved a view of an AnnData. Making a copy.\n",
      "  view_to_actual(adata)\n"
     ]
    }
   ],
   "source": [
    "adata.X=sc.pp.normalize_total(adata,\n",
    "                              target_sum=10000,\n",
    "                              layer=\"raw_counts\",\n",
    "                              inplace=False)['X']\n",
    "\n",
    "sc.pp.log1p(adata)\n",
    "\n",
    "adata.layers[\"log1p\"]=normalize(\n",
    "    adata.X,\n",
    "    axis=1\n",
    ").todense()"
   ]
  },
  {
   "cell_type": "markdown",
   "metadata": {},
   "source": [
    "Because our analysis is only concerned with genes transcribed in the nucleus, we remove all mitochondrial genes from the dataset."
   ]
  },
  {
   "cell_type": "code",
   "execution_count": 6,
   "metadata": {
    "pycharm": {
     "name": "#%%\n"
    }
   },
   "outputs": [],
   "source": [
    "adata=adata[:, adata.var['mt']==False]"
   ]
  },
  {
   "cell_type": "markdown",
   "metadata": {},
   "source": [
    "We limit the genes used in our analysis to the top 5000 mostly highly variable genes.  Genes that are not highly variable are of less interest as they give less insight into intercellular heterogeneity."
   ]
  },
  {
   "cell_type": "code",
   "execution_count": 7,
   "metadata": {
    "pycharm": {
     "name": "#%%\n"
    }
   },
   "outputs": [],
   "source": [
    "adata=adata[:,pd.read_csv(\"hvg.csv\").iloc[:,0].to_list()]"
   ]
  },
  {
   "cell_type": "code",
   "execution_count": 8,
   "metadata": {
    "pycharm": {
     "name": "#%%\n"
    }
   },
   "outputs": [
    {
     "name": "stderr",
     "output_type": "stream",
     "text": [
      "/Users/sagana/opt/anaconda3/lib/python3.8/site-packages/scanpy/preprocessing/_highly_variable_genes.py:62: UserWarning: `flavor='seurat_v3'` expects raw count data, but non-integers were found.\n",
      "  warnings.warn(\n",
      "Trying to set attribute `.uns` of view, copying.\n"
     ]
    }
   ],
   "source": [
    "sc.pp.highly_variable_genes(\n",
    "    adata,\n",
    "    n_top_genes=5000,\n",
    "    subset=False,\n",
    "    flavor='seurat_v3')"
   ]
  },
  {
   "cell_type": "markdown",
   "metadata": {},
   "source": [
    "For the protein count data, we use the _center log ratio_ (CLR) transform using the `clr` function in pySPaRTAN. The CLR transform scales the data by the geometric mean of each cell, and then log-transforms the data."
   ]
  },
  {
   "cell_type": "code",
   "execution_count": 9,
   "metadata": {
    "pycharm": {
     "name": "#%%\n"
    }
   },
   "outputs": [],
   "source": [
    "adata.obsm[\"protein\"]=pySPaRTAN.pp.clr(adata.obsm[\"protein_raw_counts\"].T).T\n",
    "\n",
    "adata.obsm[\"protein\"].loc[:]=pySPaRTAN.pp.normalize(adata.obsm[\"protein\"],\n",
    "                                       axis=1)"
   ]
  },
  {
   "cell_type": "markdown",
   "metadata": {},
   "source": [
    "## 1.2 Clustering and assigning cell-types\n",
    "SPaRTAN performs best when used to model data from different cell types separately. Several methods exist for cell-type assignments from CITE-Seq data.  For the purposes of this demonstration, we use the Leiden algorithm to cluster the data using both gene and protein expression, and then manually map the clusters to cell types based on the mean expression of the marker genes and proteins for each cluster.  The process is omitted here but is available on the SPaRTAN Github repository and the Scanpy documentation.  We use the marker genes and proteins in Table 1 to assign cell types to each cluster.\n",
    "\n",
    ": Marker genes and cell types used to assign cell types to Leiden clusters.\n",
    "\n",
    "\n",
    "| Cell Type          | Marker Genes         | Marker Proteins |\n",
    "|--------------------|----------------------|-----------------|\n",
    "| CD8+               | CD8A,  CD8B,  FCER1G | CD8a, CD4       |\n",
    "| Naive CD4+ T       | IL7R,  CCR7,  CD3E   | CD45RA, CD4     |\n",
    "| Memory CD4+        | IL7R, S100A4, CD3E   | CD45RO, CD4     |\n",
    "| NK                 | GNLY,  NKG7          | CD56            |\n",
    "| DC                 | FCER1A, CST3         |                 |\n",
    "| CD14+ Mono         | CD14, LYZ            | CD14            |\n",
    "| FCGR3A+/CD16+ Mono | FCGR3A, MS4A7        | CD16            |\n",
    "| B                  | MS4A1                | CD20,  CD19     |\n",
    "\n",
    "\n",
    "Once the cell type assignment has been completed, and the results are stored in a csv file with two columns, one for the cells barcode and another for its cell type, we read in the data and store it in the field `adata.obs[\"cell_types\"]`."
   ]
  },
  {
   "cell_type": "code",
   "execution_count": 10,
   "metadata": {},
   "outputs": [
    {
     "name": "stderr",
     "output_type": "stream",
     "text": [
      "Trying to set attribute `.obs` of view, copying.\n"
     ]
    }
   ],
   "source": [
    "ct_df=pd.read_csv(\"cell_types_PBMC.csv\",index_col=0)\n",
    "ct_df.index +=\"-1\"\n",
    "adata=adata[np.intersect1d(adata.obs_names, ct_df.index)]\n",
    "adata.obs[\"cell_types\"] = ct_df.loc[adata.obs_names]"
   ]
  },
  {
   "cell_type": "markdown",
   "metadata": {
    "pycharm": {
     "name": "#%% md\n"
    }
   },
   "source": [
    "It is important to note the number of cells for each cell type, which can be found using the `.value_counts()` function as shown below.  The SPaRTAN model will take more time and memory for cell types that have more than approximately 600 cells."
   ]
  },
  {
   "cell_type": "code",
   "execution_count": 11,
   "metadata": {
    "pycharm": {
     "name": "#%%\n"
    }
   },
   "outputs": [
    {
     "data": {
      "text/plain": [
       "CD14+MONO    1201\n",
       "CD4nav        907\n",
       "CD4mem        702\n",
       "NK            352\n",
       "B             332\n",
       "CD8           318\n",
       "CD16+MONO     140\n",
       "DC            100\n",
       "Name: cell_types, dtype: int64"
      ]
     },
     "execution_count": 11,
     "metadata": {},
     "output_type": "execute_result"
    }
   ],
   "source": [
    "adata.obs[\"cell_types\"].value_counts()"
   ]
  },
  {
   "cell_type": "markdown",
   "metadata": {
    "pycharm": {
     "name": "#%% md\n"
    }
   },
   "source": [
    "We recommend down-sampling for cell types that have more than 1000 cells when fitting the model becomes intractable."
   ]
  },
  {
   "cell_type": "code",
   "execution_count": 12,
   "metadata": {
    "pycharm": {
     "name": "#%%\n"
    }
   },
   "outputs": [],
   "source": [
    "adata=pySPaRTAN.pp.subsample_celltype(\n",
    "    adata,\n",
    "    obs_name=\"cell_types\",\n",
    "    n_cells=600\n",
    ")"
   ]
  },
  {
   "cell_type": "markdown",
   "metadata": {
    "pycharm": {
     "name": "#%% md\n"
    }
   },
   "source": [
    "We can now verify that the function worked correctly by seeing there are no more than 600 cells for any one cell type."
   ]
  },
  {
   "cell_type": "code",
   "execution_count": 13,
   "metadata": {
    "pycharm": {
     "name": "#%%\n"
    }
   },
   "outputs": [
    {
     "data": {
      "text/plain": [
       "CD14+MONO    600\n",
       "CD4mem       600\n",
       "CD4nav       600\n",
       "NK           352\n",
       "B            332\n",
       "CD8          318\n",
       "CD16+MONO    140\n",
       "DC           100\n",
       "Name: cell_types, dtype: int64"
      ]
     },
     "execution_count": 13,
     "metadata": {},
     "output_type": "execute_result"
    }
   ],
   "source": [
    "adata.obs[\"cell_types\"].value_counts()"
   ]
  },
  {
   "cell_type": "markdown",
   "metadata": {},
   "source": [
    "## 1.3 TF-Gene binding data\n",
    "\n",
    "A dataframe containing interactions between TFs and genes is loaded and stored in the AnnData object as follows. The dataframe has a column for each TF and a row for each gene, with entries being either zero or one indicating if a TF and gene are recorded as interacting in the DoRethEA database. We use an abridged version of the database, with TFs and genes being filtered out if they have too few interactions."
   ]
  },
  {
   "cell_type": "code",
   "execution_count": 14,
   "metadata": {
    "pycharm": {
     "name": "#%%\n"
    }
   },
   "outputs": [],
   "source": [
    "tf_gene=pySPaRTAN.datasets.load_dorthea()"
   ]
  },
  {
   "cell_type": "markdown",
   "metadata": {
    "pycharm": {
     "name": "#%% md\n"
    }
   },
   "source": [
    "We store the dataframe in our AnnData object after keeping only the genes present in both the TF-gene interaction matrix and the CITE-seq dataset. The dataframe is stored in the AnnData object as `adata.varm[\"tf_gene\"]`."
   ]
  },
  {
   "cell_type": "code",
   "execution_count": 16,
   "metadata": {
    "pycharm": {
     "name": "#%%\n"
    }
   },
   "outputs": [],
   "source": [
    "common_genes=np.intersect1d(tf_gene.index, \n",
    "                            adata.var_names)\n",
    "tf_gene=tf_gene.loc[common_genes]\n",
    "adata= adata[:, common_genes]\n",
    "tf_gene.loc[:]=normalize(tf_gene.T).T\n",
    "adata.varm[\"tf_gene\"]=tf_gene"
   ]
  },
  {
   "cell_type": "markdown",
   "metadata": {},
   "source": [
    "# 2. Fitting SPaRTAN Models for each cell-type\n",
    "\n",
    "To recap, after successfully completing part 1, we have an AnnData object with the following fields.\n",
    "\n",
    "- `adata.layers[\"log1p\"]`\n",
    "- `adata.obsm[\"protein\"]`\n",
    "- `adata.varm[\"tf_gene\"]`\n",
    "- `adata.obs[\"cell_type\"]`\n",
    "\n",
    "The prerequisite can be verified by printing the AnnData object and seeing each field present in the output."
   ]
  },
  {
   "cell_type": "code",
   "execution_count": 110,
   "outputs": [
    {
     "name": "stdout",
     "output_type": "stream",
     "text": [
      "AnnData object with n_obs × n_vars = 3042 × 2643\n",
      "    obs: 'n_genes', 'n_genes_by_counts', 'total_counts', 'total_counts_mt', 'pct_counts_mt', 'cell_types', 'training'\n",
      "    uns: 'tsne', 'cell_types_colors'\n",
      "    obsm: 'protein_raw_counts', 'protein', 'tf', 'tf_p_val', 'tf_sig', 'X_tsne'\n",
      "    varm: 'tf_gene'\n",
      "    layers: 'raw_counts', 'log1p'\n"
     ]
    }
   ],
   "source": [
    "print(adata)"
   ],
   "metadata": {
    "collapsed": false,
    "pycharm": {
     "name": "#%%\n"
    }
   }
  },
  {
   "cell_type": "markdown",
   "metadata": {
    "pycharm": {
     "name": "#%% md\n"
    }
   },
   "source": [
    "In order to evaluate the model’s performance, we will train the model using 80% of all cells in the dataset, and reserve the remaining 20% to be used only for testing the models ability to predict gene expression based on surface protein expression."
   ]
  },
  {
   "cell_type": "code",
   "execution_count": 20,
   "metadata": {
    "pycharm": {
     "name": "#%%\n"
    }
   },
   "outputs": [],
   "source": [
    "adata.obs[\"training\"]= np.random.rand(adata.n_obs) < 0.8"
   ]
  },
  {
   "cell_type": "markdown",
   "metadata": {},
   "source": [
    "Because transcriptional regulation and inter-cellular signaling are highly dependent on cell-types, we train SPaRTAN separately on each cell types. We start by demonstrating with only CD8+ T cells. From the entire dataset, we extract two subsets: one for training the CD8+ T cell model and one for evaluating the model."
   ]
  },
  {
   "cell_type": "code",
   "execution_count": 21,
   "metadata": {
    "pycharm": {
     "name": "#%%\n"
    },
    "scrolled": false
   },
   "outputs": [],
   "source": [
    "adata_cd8=adata[(adata.obs[\"cell_types\"] == \"CD8\")]\n",
    "\n",
    "adata_cd8_training=adata[(adata.obs[\"cell_types\"] == \"CD8\")\n",
    "                          & (adata.obs[\"training\"] == True)]\n",
    "adata_cd8_testing =adata[(adata.obs[\"cell_types\"] == \"CD8\")\n",
    "                          & (adata.obs[\"training\"] == False)]"
   ]
  },
  {
   "cell_type": "markdown",
   "metadata": {},
   "source": [
    "The SPaRTAN class in pySPaRTAN can perform cross validation, fit the model, make predictions, infer TF activities, and estimate the correlation between proteins and TFs.  The algorithm used to fit the model approximates the matrix P by a truncated singular value decomposition, using the number of singular vectors that captures 70% of the full spectrum (see Note X).\n",
    "\n",
    "The model has two parameters regularization: `lamda` to specify the regularization coefficient, and `alpha` as the trade-off between the $l_1$ and $l_2$ regularizer.  Setting `alpha=0` will train the model only using the $l_1$ regularizer, `alpha=1` will use only the $l_2$ regularizer, and `alpha=0.5` will weight the $l_1$ and $l_2$ regularizer equally.\n",
    "\n",
    "To use cross validation and grid search to find the optimal values of `lamda` between 1e-5 and 10, and `alpha` between 0 and 1, we would initialize the model specifying a range for `lamda` and `alpha` as follows:"
   ]
  },
  {
   "cell_type": "code",
   "execution_count": 22,
   "metadata": {},
   "outputs": [],
   "source": [
    "model_cd8= pySPaRTAN.SPaRTAN(lamda=[0.001,1],\n",
    "                             alpha=[0.01,0.99],\n",
    "                             solver=\"Kron\",\n",
    "                             spectrum=0.7\n",
    "                            )"
   ]
  },
  {
   "cell_type": "markdown",
   "metadata": {
    "pycharm": {
     "name": "#%% md\n"
    }
   },
   "source": [
    "The simplest way to fit the model is by calling the `.fit()` function and providing the AnnData object containing the training data."
   ]
  },
  {
   "cell_type": "code",
   "execution_count": 23,
   "metadata": {},
   "outputs": [],
   "source": [
    "model_cd8=model_cd8.fit(adata_cd8_training)"
   ]
  },
  {
   "cell_type": "markdown",
   "metadata": {
    "pycharm": {
     "name": "#%% md\n"
    }
   },
   "source": [
    "Alternatively, we can fit the model without using an AnnData structure by directly providing the three matrices needed: the gene expression ($Y$), the protein expression ($P$), and the tf-gene matrix ($D$)."
   ]
  },
  {
   "cell_type": "code",
   "execution_count": 24,
   "metadata": {
    "pycharm": {
     "name": "#%%\n"
    }
   },
   "outputs": [],
   "source": [
    "gene_expression=adata_cd8_training.layers[\"log1p\"]\n",
    "protein=adata_cd8_training.obsm[\"protein\"]\n",
    "tf_gene_matrix=adata_cd8_training.varm[\"tf_gene\"]\n",
    "\n",
    "model_cd8=model_cd8.fit(Y=gene_expression,\n",
    "                          P=protein, \n",
    "                          D=tf_gene_matrix)"
   ]
  },
  {
   "cell_type": "markdown",
   "metadata": {
    "pycharm": {
     "name": "#%% md\n"
    }
   },
   "source": [
    "We evaluate the performance using the `.score` function, which predicts gene expression for each cell in the testing set using the protein data and compares to the true gene expression."
   ]
  },
  {
   "cell_type": "code",
   "execution_count": 25,
   "metadata": {},
   "outputs": [
    {
     "data": {
      "text/plain": [
       "0.7606217426058479"
      ]
     },
     "execution_count": 25,
     "metadata": {},
     "output_type": "execute_result"
    }
   ],
   "source": [
    "model_cd8.score(adata_cd8_testing)"
   ]
  },
  {
   "cell_type": "markdown",
   "metadata": {
    "pycharm": {
     "name": "#%% md\n"
    }
   },
   "source": [
    "As with fitting the data, making predictions and evaluating perfomance can be done without using an AnnData object as follows:"
   ]
  },
  {
   "cell_type": "code",
   "execution_count": 26,
   "metadata": {
    "pycharm": {
     "name": "#%%\n"
    }
   },
   "outputs": [
    {
     "data": {
      "text/plain": [
       "0.7606217426058479"
      ]
     },
     "execution_count": 26,
     "metadata": {},
     "output_type": "execute_result"
    }
   ],
   "source": [
    "protein_test=adata_cd8_testing.obsm[\"protein\"]\n",
    "\n",
    "gene_expression_test=np.asarray(\n",
    "    adata_cd8_testing.layers[\"log1p\"])\n",
    "\n",
    "model_cd8.score(P=protein_test.to_numpy(),\n",
    "                Y=gene_expression_test)"
   ]
  },
  {
   "cell_type": "markdown",
   "metadata": {
    "pycharm": {
     "name": "#%% md\n"
    }
   },
   "source": [
    "Once we have evaluated the model and verified that it fits the held out testing data well, we retrain it with the entire dataset to interpret the results in the next subsection.\n"
   ]
  },
  {
   "cell_type": "code",
   "execution_count": 27,
   "metadata": {
    "pycharm": {
     "name": "#%%\n"
    }
   },
   "outputs": [
    {
     "data": {
      "text/plain": [
       "<pySPaRTAN.pySPaRTAN.SPaRTAN at 0x7fad93c2b400>"
      ]
     },
     "execution_count": 27,
     "metadata": {},
     "output_type": "execute_result"
    }
   ],
   "source": [
    "model_cd8.fit(adata_cd8)"
   ]
  },
  {
   "cell_type": "markdown",
   "metadata": {},
   "source": [
    "The process is repeated for each cell type in a for loop, storing the models in a dictionary.  Note that, as before, the accuracy of the model is verified by fitting a subset of the data and testing with the remaining data before the model is fit using the entire dataset."
   ]
  },
  {
   "cell_type": "code",
   "execution_count": 28,
   "metadata": {
    "pycharm": {
     "name": "#%%\n"
    }
   },
   "outputs": [
    {
     "name": "stdout",
     "output_type": "stream",
     "text": [
      "R2 value for B cells: \t0.7752362355217464\n",
      "R2 value for CD14+MONO cells: \t0.6283707877952782\n",
      "R2 value for CD16+MONO cells: \t0.817826164720477\n",
      "R2 value for CD4mem cells: \t0.6175386479974388\n",
      "R2 value for CD4nav cells: \t0.6404709873661867\n",
      "R2 value for CD8 cells: \t0.7604804395513874\n",
      "R2 value for DC cells: \t0.8454503278598255\n",
      "R2 value for NK cells: \t0.7139027245066331\n"
     ]
    }
   ],
   "source": [
    "models=dict()\n",
    "\n",
    "for ct in np.unique(adata.obs[\"cell_types\"]):\n",
    "    adata_ct =adata[(adata.obs[\"cell_types\"] == ct)]\n",
    "    adata_training=adata[(adata.obs[\"cell_types\"] == ct)\n",
    "                         & (adata.obs[\"training\"] == True)]\n",
    "    adata_testing =adata[(adata.obs[\"cell_types\"] == ct)\n",
    "                         & (adata.obs[\"training\"] == False)]\n",
    "\n",
    "    models[ct]= pySPaRTAN.SPaRTAN(lamda=[0.0001, 10],\n",
    "                                  alpha=[0.01,1],\n",
    "                                  solver=\"Kron\",\n",
    "                                  spectrum=0.7\n",
    "                                  )\n",
    "    models[ct].fit(adata_training)\n",
    "\n",
    "    print(\"R2 value for \"+ct+\" cells: \\t\"\n",
    "          +str(models[ct].score(adata_testing)))\n",
    "\n",
    "    models[ct].fit(adata_training)"
   ]
  },
  {
   "cell_type": "markdown",
   "metadata": {
    "pycharm": {
     "name": "#%% md\n"
    }
   },
   "source": [
    "# 3. Infer TF Activites\n",
    "\n",
    "From the fitted model, TF activity is inferred from protein expression by calculating $WP^T$. TF activity for every CD8+ T cell is calculated by the `get_TF_activity` function, using only the protein expression as input."
   ]
  },
  {
   "cell_type": "code",
   "execution_count": 29,
   "metadata": {},
   "outputs": [],
   "source": [
    "tf = model_cd8.get_projD(adata_cd8.obsm[\"protein\"])"
   ]
  },
  {
   "cell_type": "markdown",
   "metadata": {},
   "source": [
    "The significance of the inferred TF activity is assessed using a permutation test. We generate the distribution for an empirical null hypothesis by shuffling the genes for each cell (randomly permuting the rows of Y) a specified number of times (typically, 1000), re-fitting the model, and calculating TF activity. For each TF in each cell, we compare the inferred TF activity to the empirical null distribution of 1000 inferred TF activities and calculate a p-value as the proportion of values in the null distribution that are higher in absolute value than the true inferred TF activity. The p-value has a minimum value inversely proportional to the number of trials (1/1000, typically).\n",
    "\n",
    "For each cell, P-values are corrected using Bonferroni procedure for multiple hypothesis testing, which is implemented as part of the statsmodel package (`statsmodels.stats.multitest.multipletests`). We use an adjusted p-value of 0.15 for this example.  The permutation test is done using the `get_TF_activity` function, this time specifying the number of permutations to use for the null distribution.\n"
   ]
  },
  {
   "cell_type": "code",
   "execution_count": 30,
   "metadata": {
    "pycharm": {
     "name": "#%%\n"
    }
   },
   "outputs": [
    {
     "data": {
      "application/vnd.jupyter.widget-view+json": {
       "model_id": "2e39d3d258d147f1bf867ec9af196664",
       "version_major": 2,
       "version_minor": 0
      },
      "text/plain": [
       "  0%|          | 0/100 [00:00<?, ?it/s]"
      ]
     },
     "metadata": {},
     "output_type": "display_data"
    }
   ],
   "source": [
    "tf, tf_p_val = model_cd8.get_projD(\n",
    "    adata_cd8.obsm[\"protein\"],\n",
    "    n_trials=1000,\n",
    "    verbose=True\n",
    ")"
   ]
  },
  {
   "cell_type": "markdown",
   "metadata": {},
   "source": [
    "To identify TFs that are important in CD8+ T cells, we look for TFs that have a p value of less than 0.15 in a high proportion of cells."
   ]
  },
  {
   "cell_type": "code",
   "execution_count": 31,
   "metadata": {},
   "outputs": [
    {
     "data": {
      "text/plain": [
       "HMBOX1    1.000000\n",
       "FOSL1     1.000000\n",
       "SOX6      1.000000\n",
       "MEIS1     1.000000\n",
       "MAF       1.000000\n",
       "MYC       1.000000\n",
       "ELF1      1.000000\n",
       "ATF7      1.000000\n",
       "SSRP1     1.000000\n",
       "PKNOX1    1.000000\n",
       "E2F7      1.000000\n",
       "TP73      1.000000\n",
       "RFX5      1.000000\n",
       "ZNF263    0.990566\n",
       "HOXB13    0.886792\n",
       "NCOA1     0.883648\n",
       "TCF25     0.751572\n",
       "IRF2      0.726415\n",
       "E2F2      0.566038\n",
       "FOS       0.553459\n",
       "dtype: float64"
      ]
     },
     "execution_count": 31,
     "metadata": {},
     "output_type": "execute_result"
    }
   ],
   "source": [
    "prop_sig=(tf_p_val<0.15).mean()\n",
    "prop_sig.sort_values(ascending=False).head(10)"
   ]
  },
  {
   "cell_type": "markdown",
   "metadata": {},
   "source": [
    "The inferred TF activity and corresponding p-values are stored in the AnnData object."
   ]
  },
  {
   "cell_type": "code",
   "execution_count": 32,
   "metadata": {},
   "outputs": [],
   "source": [
    "adata_cd8.obsm[\"tf_activity\"]=tf\n",
    "adata_cd8.obsm[\"tf_p_val\"]=tf_p_val"
   ]
  },
  {
   "cell_type": "markdown",
   "metadata": {},
   "source": [
    "Repeat the process for each cell type, and create a dataframe with the proportion of cells for each cell type where each TF is significant."
   ]
  },
  {
   "cell_type": "code",
   "execution_count": 33,
   "metadata": {
    "pycharm": {
     "name": "#%%\n"
    }
   },
   "outputs": [
    {
     "name": "stdout",
     "output_type": "stream",
     "text": [
      "Calculating TF activities for B cells\n"
     ]
    },
    {
     "data": {
      "application/vnd.jupyter.widget-view+json": {
       "model_id": "222557c294a74c7f9a02a3aa005bb2ca",
       "version_major": 2,
       "version_minor": 0
      },
      "text/plain": [
       "  0%|          | 0/50 [00:00<?, ?it/s]"
      ]
     },
     "metadata": {},
     "output_type": "display_data"
    },
    {
     "name": "stdout",
     "output_type": "stream",
     "text": [
      "Calculating TF activities for CD14+MONO cells\n"
     ]
    },
    {
     "data": {
      "application/vnd.jupyter.widget-view+json": {
       "model_id": "f155fa3551d449c8bce0fb16780b54b7",
       "version_major": 2,
       "version_minor": 0
      },
      "text/plain": [
       "  0%|          | 0/50 [00:00<?, ?it/s]"
      ]
     },
     "metadata": {},
     "output_type": "display_data"
    },
    {
     "name": "stdout",
     "output_type": "stream",
     "text": [
      "Calculating TF activities for CD16+MONO cells\n"
     ]
    },
    {
     "data": {
      "application/vnd.jupyter.widget-view+json": {
       "model_id": "1f9cc9e777fd4e95a32e75ace91bdc4e",
       "version_major": 2,
       "version_minor": 0
      },
      "text/plain": [
       "  0%|          | 0/50 [00:00<?, ?it/s]"
      ]
     },
     "metadata": {},
     "output_type": "display_data"
    },
    {
     "name": "stdout",
     "output_type": "stream",
     "text": [
      "Calculating TF activities for CD4mem cells\n"
     ]
    },
    {
     "data": {
      "application/vnd.jupyter.widget-view+json": {
       "model_id": "f0a234b6fb684455b76514469f40c390",
       "version_major": 2,
       "version_minor": 0
      },
      "text/plain": [
       "  0%|          | 0/50 [00:00<?, ?it/s]"
      ]
     },
     "metadata": {},
     "output_type": "display_data"
    },
    {
     "name": "stdout",
     "output_type": "stream",
     "text": [
      "Calculating TF activities for CD4nav cells\n"
     ]
    },
    {
     "data": {
      "application/vnd.jupyter.widget-view+json": {
       "model_id": "5b62f1daa4ab4ed0871ee5741507a9ae",
       "version_major": 2,
       "version_minor": 0
      },
      "text/plain": [
       "  0%|          | 0/50 [00:00<?, ?it/s]"
      ]
     },
     "metadata": {},
     "output_type": "display_data"
    },
    {
     "name": "stdout",
     "output_type": "stream",
     "text": [
      "Calculating TF activities for CD8 cells\n"
     ]
    },
    {
     "data": {
      "application/vnd.jupyter.widget-view+json": {
       "model_id": "a883ecc6843547a4809e6d106403ac51",
       "version_major": 2,
       "version_minor": 0
      },
      "text/plain": [
       "  0%|          | 0/50 [00:00<?, ?it/s]"
      ]
     },
     "metadata": {},
     "output_type": "display_data"
    },
    {
     "name": "stdout",
     "output_type": "stream",
     "text": [
      "Calculating TF activities for DC cells\n"
     ]
    },
    {
     "data": {
      "application/vnd.jupyter.widget-view+json": {
       "model_id": "906af895181c406cb26c90b384a9e84c",
       "version_major": 2,
       "version_minor": 0
      },
      "text/plain": [
       "  0%|          | 0/50 [00:00<?, ?it/s]"
      ]
     },
     "metadata": {},
     "output_type": "display_data"
    },
    {
     "name": "stdout",
     "output_type": "stream",
     "text": [
      "Calculating TF activities for NK cells\n"
     ]
    },
    {
     "data": {
      "application/vnd.jupyter.widget-view+json": {
       "model_id": "77d7c766f1ee4c29a902dfe95f2a1ba4",
       "version_major": 2,
       "version_minor": 0
      },
      "text/plain": [
       "  0%|          | 0/50 [00:00<?, ?it/s]"
      ]
     },
     "metadata": {},
     "output_type": "display_data"
    }
   ],
   "source": [
    "tf=dict()\n",
    "tf_p_val=dict()\n",
    "\n",
    "for ct in np.unique(adata.obs[\"cell_types\"]):\n",
    "    print(\"Calculating TF activities for \"+ct+\" cells\")\n",
    "    tf[ct], tf_p_val[ct] =models[ct].get_projD(\n",
    "        adata[adata.obs[\"cell_types\"] == ct].obsm[\"protein\"],\n",
    "        n_trials=1000,\n",
    "        verbose=True\n",
    "    )\n",
    "\n",
    "adata.obsm[\"tf\"]=pd.concat(tf.values(),\n",
    "                           axis=0)\n",
    "adata.obsm[\"tf_p_val\"]=pd.concat(tf_p_val.values(),\n",
    "                                 axis=0)\n",
    "adata.obsm['tf_sig']=adata.obsm['tf_p_val']<0.15\n",
    "\n"
   ]
  },
  {
   "cell_type": "markdown",
   "metadata": {},
   "source": [
    "Using the TF activities, we calculate and plot the tSNE embedding for all cells in the dataset, coloring the cells by cell type."
   ]
  },
  {
   "cell_type": "code",
   "execution_count": 34,
   "metadata": {
    "pycharm": {
     "name": "#%%\n"
    }
   },
   "outputs": [
    {
     "name": "stdout",
     "output_type": "stream",
     "text": [
      "WARNING: saving figure to file figures/tsnetsne.svg\n"
     ]
    },
    {
     "data": {
      "image/png": "[encoded data removed]",
      "text/plain": [
       "<Figure size 432x288 with 1 Axes>"
      ]
     },
     "metadata": {},
     "output_type": "display_data"
    }
   ],
   "source": [
    "sc.tl.tsne(adata, use_rep=\"tf\")\n",
    "sc.pl.tsne(adata, color=\"cell_types\")"
   ]
  },
  {
   "cell_type": "markdown",
   "metadata": {},
   "source": [
    "Create a dotplot of the importance of TFs across cell-types using seaborn. We plot only the subset of TFs that are important to the transcriptional program of at least one cell-type."
   ]
  },
  {
   "cell_type": "code",
   "execution_count": 44,
   "metadata": {
    "pycharm": {
     "name": "#%%\n"
    }
   },
   "outputs": [
    {
     "name": "stderr",
     "output_type": "stream",
     "text": [
      "/Users/sagana/Library/CloudStorage/OneDrive-UniversityofPittsburgh/SPaRTAN1/pySPaRTAN/pl.py:47: UserWarning: FixedFormatter should only be used together with FixedLocator\n",
      "  ax.set_xticklabels(size_df.index,rotation = 90)\n"
     ]
    },
    {
     "data": {
      "image/png": "[encoded data removed]",
      "text/plain": [
       "<Figure size 216x712.8 with 1 Axes>"
      ]
     },
     "metadata": {
      "needs_background": "light"
     },
     "output_type": "display_data"
    }
   ],
   "source": [
    "pySPaRTAN.pl.tf_dotplot(adata,\n",
    "                        tfs_to_plot=5,\n",
    "                        group=\"cell_types\"\n",
    "                        )"
   ]
  },
  {
   "cell_type": "markdown",
   "metadata": {
    "pycharm": {
     "name": "#%% md\n"
    }
   },
   "source": [
    "# 4. Identifying TF-protein relationships\n",
    "\n",
    "The matrix $W$ in the model can be interpreted as interactions between TFs and proteins.  However, due to different proteins being expressed on different scales, we instead look at the correlations between protein expressions ($P$) and the inferred TF activity ($WP^T$).  The `get_tf_protein_cor` is used to compute the correlation matrix using all cells in the training data.  The function returns a data frame with TFs as columns and proteins as rows."
   ]
  },
  {
   "cell_type": "code",
   "execution_count": 46,
   "metadata": {
    "pycharm": {
     "name": "#%%\n"
    },
    "scrolled": false
   },
   "outputs": [
    {
     "data": {
      "text/html": [
       "<div>\n",
       "<style scoped>\n",
       "    .dataframe tbody tr th:only-of-type {\n",
       "        vertical-align: middle;\n",
       "    }\n",
       "\n",
       "    .dataframe tbody tr th {\n",
       "        vertical-align: top;\n",
       "    }\n",
       "\n",
       "    .dataframe thead th {\n",
       "        text-align: right;\n",
       "    }\n",
       "</style>\n",
       "<table border=\"1\" class=\"dataframe\">\n",
       "  <thead>\n",
       "    <tr style=\"text-align: right;\">\n",
       "      <th></th>\n",
       "      <th>CD3</th>\n",
       "      <th>CD4</th>\n",
       "      <th>CD8a</th>\n",
       "      <th>CD11b</th>\n",
       "      <th>CD14</th>\n",
       "      <th>CD15</th>\n",
       "      <th>CD16</th>\n",
       "      <th>CD19</th>\n",
       "      <th>CD20</th>\n",
       "      <th>CD25</th>\n",
       "      <th>...</th>\n",
       "      <th>CD86</th>\n",
       "      <th>CD127</th>\n",
       "      <th>CD137</th>\n",
       "      <th>CD197</th>\n",
       "      <th>CD274</th>\n",
       "      <th>CD278</th>\n",
       "      <th>CD335</th>\n",
       "      <th>PD-1</th>\n",
       "      <th>HLA-DR</th>\n",
       "      <th>TIGIT</th>\n",
       "    </tr>\n",
       "  </thead>\n",
       "  <tbody>\n",
       "    <tr>\n",
       "      <th>CREB1</th>\n",
       "      <td>-0.393819</td>\n",
       "      <td>-0.633199</td>\n",
       "      <td>0.639607</td>\n",
       "      <td>-0.440901</td>\n",
       "      <td>-0.184355</td>\n",
       "      <td>-0.307346</td>\n",
       "      <td>-0.232797</td>\n",
       "      <td>-0.169641</td>\n",
       "      <td>0.298725</td>\n",
       "      <td>-0.053913</td>\n",
       "      <td>...</td>\n",
       "      <td>-0.021500</td>\n",
       "      <td>0.078378</td>\n",
       "      <td>-0.030445</td>\n",
       "      <td>-0.148388</td>\n",
       "      <td>-0.178311</td>\n",
       "      <td>-0.282015</td>\n",
       "      <td>-0.299101</td>\n",
       "      <td>-0.054289</td>\n",
       "      <td>-0.069135</td>\n",
       "      <td>0.235030</td>\n",
       "    </tr>\n",
       "    <tr>\n",
       "      <th>JUN</th>\n",
       "      <td>0.503408</td>\n",
       "      <td>0.633201</td>\n",
       "      <td>-0.726506</td>\n",
       "      <td>0.112258</td>\n",
       "      <td>0.196097</td>\n",
       "      <td>0.387697</td>\n",
       "      <td>0.148390</td>\n",
       "      <td>0.167898</td>\n",
       "      <td>0.064512</td>\n",
       "      <td>0.159318</td>\n",
       "      <td>...</td>\n",
       "      <td>0.032245</td>\n",
       "      <td>0.519479</td>\n",
       "      <td>0.052840</td>\n",
       "      <td>0.318779</td>\n",
       "      <td>0.195864</td>\n",
       "      <td>0.380980</td>\n",
       "      <td>0.166199</td>\n",
       "      <td>0.155433</td>\n",
       "      <td>-0.077850</td>\n",
       "      <td>-0.247804</td>\n",
       "    </tr>\n",
       "    <tr>\n",
       "      <th>TEAD1</th>\n",
       "      <td>0.144167</td>\n",
       "      <td>0.370798</td>\n",
       "      <td>-0.126785</td>\n",
       "      <td>0.324303</td>\n",
       "      <td>0.077753</td>\n",
       "      <td>0.054868</td>\n",
       "      <td>0.148755</td>\n",
       "      <td>0.108900</td>\n",
       "      <td>-0.354204</td>\n",
       "      <td>-0.055280</td>\n",
       "      <td>...</td>\n",
       "      <td>0.024016</td>\n",
       "      <td>-0.388133</td>\n",
       "      <td>-0.006897</td>\n",
       "      <td>-0.059735</td>\n",
       "      <td>0.048811</td>\n",
       "      <td>0.279792</td>\n",
       "      <td>0.142953</td>\n",
       "      <td>-0.096016</td>\n",
       "      <td>0.155496</td>\n",
       "      <td>-0.134737</td>\n",
       "    </tr>\n",
       "    <tr>\n",
       "      <th>FOS</th>\n",
       "      <td>-0.141876</td>\n",
       "      <td>-0.056041</td>\n",
       "      <td>0.370479</td>\n",
       "      <td>-0.065656</td>\n",
       "      <td>-0.087972</td>\n",
       "      <td>-0.140259</td>\n",
       "      <td>0.146266</td>\n",
       "      <td>0.024621</td>\n",
       "      <td>-0.176080</td>\n",
       "      <td>-0.216166</td>\n",
       "      <td>...</td>\n",
       "      <td>0.003187</td>\n",
       "      <td>-0.531573</td>\n",
       "      <td>0.037312</td>\n",
       "      <td>-0.072710</td>\n",
       "      <td>-0.015907</td>\n",
       "      <td>0.195924</td>\n",
       "      <td>0.065522</td>\n",
       "      <td>-0.041667</td>\n",
       "      <td>0.004780</td>\n",
       "      <td>0.576502</td>\n",
       "    </tr>\n",
       "    <tr>\n",
       "      <th>RXRA</th>\n",
       "      <td>0.174168</td>\n",
       "      <td>-0.229665</td>\n",
       "      <td>-0.291350</td>\n",
       "      <td>-0.008179</td>\n",
       "      <td>0.091014</td>\n",
       "      <td>0.143801</td>\n",
       "      <td>-0.086928</td>\n",
       "      <td>-0.062809</td>\n",
       "      <td>0.230192</td>\n",
       "      <td>0.250418</td>\n",
       "      <td>...</td>\n",
       "      <td>0.007658</td>\n",
       "      <td>0.480034</td>\n",
       "      <td>0.033487</td>\n",
       "      <td>0.083325</td>\n",
       "      <td>-0.045168</td>\n",
       "      <td>-0.438866</td>\n",
       "      <td>0.012633</td>\n",
       "      <td>-0.250849</td>\n",
       "      <td>0.027744</td>\n",
       "      <td>-0.272121</td>\n",
       "    </tr>\n",
       "  </tbody>\n",
       "</table>\n",
       "<p>5 rows × 29 columns</p>\n",
       "</div>"
      ],
      "text/plain": [
       "            CD3       CD4      CD8a     CD11b      CD14      CD15      CD16  \\\n",
       "CREB1 -0.393819 -0.633199  0.639607 -0.440901 -0.184355 -0.307346 -0.232797   \n",
       "JUN    0.503408  0.633201 -0.726506  0.112258  0.196097  0.387697  0.148390   \n",
       "TEAD1  0.144167  0.370798 -0.126785  0.324303  0.077753  0.054868  0.148755   \n",
       "FOS   -0.141876 -0.056041  0.370479 -0.065656 -0.087972 -0.140259  0.146266   \n",
       "RXRA   0.174168 -0.229665 -0.291350 -0.008179  0.091014  0.143801 -0.086928   \n",
       "\n",
       "           CD19      CD20      CD25  ...      CD86     CD127     CD137  \\\n",
       "CREB1 -0.169641  0.298725 -0.053913  ... -0.021500  0.078378 -0.030445   \n",
       "JUN    0.167898  0.064512  0.159318  ...  0.032245  0.519479  0.052840   \n",
       "TEAD1  0.108900 -0.354204 -0.055280  ...  0.024016 -0.388133 -0.006897   \n",
       "FOS    0.024621 -0.176080 -0.216166  ...  0.003187 -0.531573  0.037312   \n",
       "RXRA  -0.062809  0.230192  0.250418  ...  0.007658  0.480034  0.033487   \n",
       "\n",
       "          CD197     CD274     CD278     CD335      PD-1    HLA-DR     TIGIT  \n",
       "CREB1 -0.148388 -0.178311 -0.282015 -0.299101 -0.054289 -0.069135  0.235030  \n",
       "JUN    0.318779  0.195864  0.380980  0.166199  0.155433 -0.077850 -0.247804  \n",
       "TEAD1 -0.059735  0.048811  0.279792  0.142953 -0.096016  0.155496 -0.134737  \n",
       "FOS   -0.072710 -0.015907  0.195924  0.065522 -0.041667  0.004780  0.576502  \n",
       "RXRA   0.083325 -0.045168 -0.438866  0.012633 -0.250849  0.027744 -0.272121  \n",
       "\n",
       "[5 rows x 29 columns]"
      ]
     },
     "execution_count": 46,
     "metadata": {},
     "output_type": "execute_result"
    }
   ],
   "source": [
    "model_cd8.fit(adata_cd8)\n",
    "protein_tf=model_cd8.get_tf_protein_cor()\n",
    "protein_tf.head()"
   ]
  },
  {
   "cell_type": "markdown",
   "metadata": {},
   "source": [
    "We visualize the results using a clustermap, using only the TFs that are significantly active in at least 10% of CD8+ T cells."
   ]
  },
  {
   "cell_type": "code",
   "execution_count": 53,
   "metadata": {
    "pycharm": {
     "name": "#%%\n"
    }
   },
   "outputs": [
    {
     "data": {
      "text/plain": [
       "<Figure size 4000x4000 with 0 Axes>"
      ]
     },
     "metadata": {},
     "output_type": "display_data"
    },
    {
     "data": {
      "image/png": "[encoded data removed]",
      "text/plain": [
       "<Figure size 720x720 with 4 Axes>"
      ]
     },
     "metadata": {
      "needs_background": "light"
     },
     "output_type": "display_data"
    }
   ],
   "source": [
    "\n",
    "plt.figure(dpi=400, figsize=(10,10))\n",
    "tfs_to_plot=(adata_cd8.obsm[\"tf_p_val\"]<0.15).mean().sort_values(ascending=False).head(15).index.tolist()\n",
    "\n",
    "sns.clustermap(\n",
    "    protein_tf.loc[tfs_to_plot],\n",
    "    cmap=\"bwr\",vmin=-1, vmax=1\n",
    ").fig.suptitle('CD8+ T Cells', y=1.05,fontsize=20)\n"
   ]
  },
  {
   "cell_type": "code",
   "execution_count": 101,
   "metadata": {
    "pycharm": {
     "name": "#%%\n"
    }
   },
   "outputs": [
    {
     "data": {
      "image/png": "[encoded data removed]",
      "text/plain": [
       "<Figure size 864x648 with 1 Axes>"
      ]
     },
     "metadata": {
      "needs_background": "light"
     },
     "output_type": "display_data"
    },
    {
     "data": {
      "image/png": "[encoded data removed]",
      "text/plain": [
       "<Figure size 864x648 with 1 Axes>"
      ]
     },
     "metadata": {
      "needs_background": "light"
     },
     "output_type": "display_data"
    }
   ],
   "source": [
    "\n",
    "\n",
    "pySPaRTAN.pl.tf_protien_line_plot(\n",
    "    protein_tf, \"CD27\",\n",
    "    title=\"CD27 - TF correlations in CD8+ T Cells\")\n",
    "\n",
    "pySPaRTAN.pl.tf_protien_line_plot(\n",
    "    protein_tf, \"TIGIT\",\n",
    "    title=\"TIGIT - TF correlations in CD8+ T Cells\")\n"
   ]
  },
  {
   "cell_type": "markdown",
   "metadata": {
    "pycharm": {
     "name": "#%% md\n"
    }
   },
   "source": [
    "Repeat the process for each cell type of interest, and store the results in a dictionary."
   ]
  },
  {
   "cell_type": "code",
   "execution_count": 108,
   "metadata": {
    "pycharm": {
     "name": "#%%\n"
    }
   },
   "outputs": [],
   "source": [
    "protein_tf=dict()\n",
    "for ct in np.unique(adata.obs[\"cell_types\"]):\n",
    "    protein_tf[ct]=models[ct].get_tf_protein_cor()\n",
    "    protein_tf[ct].columns=[elem.replace(\"_TotalSeqB\", '') for elem in protein_tf[ct].columns]\n"
   ]
  },
  {
   "cell_type": "markdown",
   "metadata": {},
   "source": [
    "A clustermap can be made for any any cell type in the dictionary as follows:"
   ]
  },
  {
   "cell_type": "code",
   "execution_count": 109,
   "metadata": {
    "pycharm": {
     "name": "#%%\n"
    }
   },
   "outputs": [
    {
     "data": {
      "text/plain": [
       "Text(0.5, 1.05, 'B Cells')"
      ]
     },
     "execution_count": 109,
     "metadata": {},
     "output_type": "execute_result"
    },
    {
     "data": {
      "text/plain": [
       "<Figure size 4000x4000 with 0 Axes>"
      ]
     },
     "metadata": {},
     "output_type": "display_data"
    },
    {
     "data": {
      "image/png": "[encoded data removed]",
      "text/plain": [
       "<Figure size 720x720 with 4 Axes>"
      ]
     },
     "metadata": {
      "needs_background": "light"
     },
     "output_type": "display_data"
    }
   ],
   "source": [
    "ct=\"B\"\n",
    "plt.figure(dpi=400, figsize=(10,10))\n",
    "tfs_to_plot=(adata[adata.obs[\"cell_types\"]==ct].obsm[\"tf_p_val\"]<0.15).mean().sort_values(ascending=False).head(15).index.tolist()\n",
    "\n",
    "sns.clustermap(\n",
    "    protein_tf[ct].loc[tfs_to_plot],\n",
    "    cmap=\"bwr\",vmin=-1, vmax=1\n",
    ").fig.suptitle(ct+ ' Cells', y=1.05,fontsize=20)"
   ]
  }
 ],
 "metadata": {
  "kernelspec": {
   "display_name": "Python 3",
   "language": "python",
   "name": "python3"
  },
  "language_info": {
   "codemirror_mode": {
    "name": "ipython",
    "version": 3
   },
   "file_extension": ".py",
   "mimetype": "text/x-python",
   "name": "python",
   "nbconvert_exporter": "python",
   "pygments_lexer": "ipython3",
   "version": "3.8.8"
  }
 },
 "nbformat": 4,
 "nbformat_minor": 1
}